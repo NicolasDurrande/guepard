{
 "cells": [
  {
   "cell_type": "markdown",
   "id": "51d3419c",
   "metadata": {},
   "source": [
    "# Figure 3: Accuracy vs test size"
   ]
  },
  {
   "cell_type": "code",
   "execution_count": null,
   "id": "d8cc5ec7",
   "metadata": {},
   "outputs": [],
   "source": [
    "import matplotlib.cm as cm\n",
    "import matplotlib.pyplot as plt\n",
    "import numpy as np\n",
    "import pandas as pd\n",
    "import itertools as it\n",
    "\n",
    "import gpflow\n",
    "\n",
    "import guepard\n",
    "from guepard.utilities import get_gpr_submodels"
   ]
  },
  {
   "cell_type": "code",
   "execution_count": null,
   "id": "eaa2c55b",
   "metadata": {},
   "outputs": [],
   "source": [
    "def get_data(num_data, kernel):\n",
    "    X = np.linspace(0, 1, num_data)[:, None]\n",
    "    Y = gpflow.models.GPR((np.c_[-10.], np.c_[0.]), kernel, noise_variance=NOISE_VAR).predict_f_samples(X)\n",
    "    return X, Y\n",
    "\n",
    "\n",
    "def get_subset_of_data(A: np.ndarray, step: int) -> np.ndarray:\n",
    "    \"\"\"\n",
    "    Returns a subarray of `A`. The elements in the subarray depend on `step`.\n",
    "    For `step` equal to 0, the subarray consists of a single element which will be\n",
    "    the the middle element of `A`. For `step` >= 1, the subarray contains the (2**step + 1)\n",
    "    middle elements.\n",
    "    \"\"\"\n",
    "    middle_index = len(A)//2\n",
    "    if step == 0:\n",
    "        return A[[middle_index]]\n",
    "    else:\n",
    "        pad = int(2 ** (step - 1))  # 1, 2, 4, 8, ...\n",
    "        return np.linspace(0, 1, 2**(step)+1)[:, None]\n",
    "        return A[middle_index - pad: middle_index + pad + 1]\n",
    "\n",
    "\n",
    "def get_aggregate_model(X, Y, num_splits, kernel):\n",
    "    x_list = np.array_split(X, num_splits)  # list of num_split np.array\n",
    "    y_list = np.array_split(Y, num_splits)  \n",
    "    datasets = list(zip(x_list, y_list))\n",
    "\n",
    "    submodels = get_gpr_submodels(datasets, kernel, mean_function=None, noise_variance=NOISE_VAR) # list of num_split GPR models\n",
    "    m_agg = guepard.EquivalentObsEnsemble(submodels)\n",
    "    return m_agg\n",
    "\n",
    "\n",
    "def kl_univariate_gaussians(mu_1, sigma_1, mu_2, sigma_2):\n",
    "    \"\"\"\n",
    "    KL(p || q), where p = N(mu_1, sigma_1^2), and q = N(mu_2, sigma_2^2)\n",
    "    \"\"\"\n",
    "    logs =  np.log(sigma_2) - np.log(sigma_1)\n",
    "    a = (sigma_1**2 + (mu_1 - mu_2) **2) / (2. * sigma_2**2)\n",
    "    return logs + a - 0.5\n",
    "\n",
    "\n",
    "def compare_full_vs_agg(X, full, agg):\n",
    "    mus = []\n",
    "    sigmas = []\n",
    "    len_x_subset = []\n",
    "\n",
    "    for i in range(LN_NUM_DATA + 1):\n",
    "        xx = get_subset_of_data(X, i)\n",
    "        m, v = agg.predict_f(xx)\n",
    "        mus.append(m.numpy().flatten()[len(xx) // 2])\n",
    "        sigmas.append(v.numpy().flatten()[len(xx) // 2] ** 0.5)\n",
    "        len_x_subset.append(len(xx))\n",
    "\n",
    "    m, v = full.predict_f(get_subset_of_data(X, 0))\n",
    "    m_full = m.numpy().flatten()[0]\n",
    "    sigma_full = v.numpy().flatten()[0] ** 0.5\n",
    "\n",
    "    kls = [\n",
    "        kl_univariate_gaussians(m, s, m_full, sigma_full) for m, s in zip(mus, sigmas)\n",
    "    ]\n",
    "\n",
    "    return len_x_subset, kls"
   ]
  },
  {
   "cell_type": "code",
   "execution_count": null,
   "id": "930761d1",
   "metadata": {
    "lines_to_next_cell": 0
   },
   "outputs": [],
   "source": [
    "NOISE_VAR = 1e-1\n",
    "LN_NUM_DATA = 5  # num_datapoints = 2 ** LN_NUM_DATA + 1\n",
    "REPS_ITER = range(50)\n",
    "NUM_SPLITS_ITER = [2, 4, 8, 16]\n",
    "KERNEL = gpflow.kernels.SquaredExponential(lengthscales=.25)\n",
    "\n",
    "X, Y = get_data(2 ** LN_NUM_DATA + 1, KERNEL)\n",
    "\n",
    "for i in range(LN_NUM_DATA + 1):\n",
    "    plt.plot(X, 0*X + i, 'kx')\n",
    "    xx = get_subset_of_data(X, i)\n",
    "    plt.plot(xx, 0*xx + i, 'C0o')"
   ]
  },
  {
   "cell_type": "code",
   "execution_count": null,
   "id": "d8d286b5",
   "metadata": {},
   "outputs": [],
   "source": [
    "results = []\n",
    "\n",
    "\n",
    "\n",
    "for rep, num_splits in it.product(REPS_ITER, NUM_SPLITS_ITER):\n",
    "    print(rep, num_splits)\n",
    "    X, Y = get_data(2 ** LN_NUM_DATA + 1, KERNEL)\n",
    "    full_gpr = gpflow.models.GPR((X, Y), KERNEL, noise_variance=NOISE_VAR)\n",
    "    agg_gpr = get_aggregate_model(X, Y, num_splits, KERNEL)\n",
    "    size, kl = compare_full_vs_agg(X, full_gpr, agg_gpr)\n",
    "    results.extend({\"rep\": rep, \"num_splits\": num_splits, \"kl\": k, \"size\": s} for s,k in zip(size, kl))"
   ]
  },
  {
   "cell_type": "code",
   "execution_count": null,
   "id": "0565b284",
   "metadata": {},
   "outputs": [],
   "source": [
    "df = pd.DataFrame(results)\n",
    "for i, num_splits in enumerate(NUM_SPLITS_ITER): \n",
    "    x_ = df[df.num_splits==num_splits]['size']+.3 * i\n",
    "    y_ = df[df.num_splits==num_splits].kl\n",
    "    plt.plot(x_, y_, f'C{i}.')\n",
    "\n",
    "plt.yscale('log')"
   ]
  },
  {
   "cell_type": "code",
   "execution_count": null,
   "id": "921607eb",
   "metadata": {},
   "outputs": [],
   "source": [
    "df = pd.DataFrame(results)\n",
    "df\n",
    "print(df)\n",
    "# plt.figure()\n",
    "fig, ax = plt.subplots(figsize=(5, 3))\n",
    "def box_plot(data, x, label, edge_color, fill_color, manage_ticks=False):\n",
    "    bp = ax.boxplot(data, positions=[x], patch_artist=True, manage_ticks=manage_ticks, showfliers=False, widths=.2)\n",
    "    \n",
    "    for element in ['boxes', 'whiskers', 'fliers', 'means', 'medians', 'caps']:\n",
    "        plt.setp(bp[element], color=edge_color)\n",
    "\n",
    "    for patch in bp['boxes']:\n",
    "        patch.set(facecolor=fill_color)       \n",
    "        patch.set(alpha=.6)       \n",
    "    \n",
    "    return bp\n",
    "\n",
    "\n",
    "bps = []\n",
    "for i, num_splits in enumerate(NUM_SPLITS_ITER):\n",
    "    for j in range(LN_NUM_DATA + 1):\n",
    "        s = len(get_subset_of_data(X, j))\n",
    "        data = df[(df.num_splits==num_splits) & (df['size'] == s)]['kl'].values\n",
    "        x = 2 * j + (i * .3) - .45\n",
    "        bp = box_plot(data, x, i, edge_color=f'C{i}', fill_color=f'C{i}')\n",
    "        if j == 0:\n",
    "            bps.append(bp)\n",
    "\n",
    "\n",
    "labels = map(lambda s: f\"P = {s}\", NUM_SPLITS_ITER)\n",
    "ax.legend([bp[\"boxes\"][0] for bp in bps], labels, loc='upper right')\n",
    "\n",
    "plt.xticks(2 * np.arange(6), df['size'].unique())\n",
    "# plt.yscale('log')\n",
    "plt.xlabel(\"$q$\")\n",
    "plt.ylabel(\"$\\mathrm{KL}$\")\n",
    "plt.tight_layout()\n",
    "plt.savefig(\"figures/acc_vs_testsize.pdf\")"
   ]
  }
 ],
 "metadata": {
  "jupytext": {
   "cell_metadata_filter": "-all",
   "formats": "ipynb,md"
  },
  "kernelspec": {
   "display_name": "Python 3.9.13 ('.venv': poetry)",
   "language": "python",
   "name": "python3"
  },
  "language_info": {
   "codemirror_mode": {
    "name": "ipython",
    "version": 3
   },
   "file_extension": ".py",
   "mimetype": "text/x-python",
   "name": "python",
   "nbconvert_exporter": "python",
   "pygments_lexer": "ipython3",
   "version": "3.9.13"
  },
  "vscode": {
   "interpreter": {
    "hash": "a41565e6715b36c3e75045e67b09d906430734b554fe23fb80d9a0cfa9ccfc68"
   }
  }
 },
 "nbformat": 4,
 "nbformat_minor": 5
}
