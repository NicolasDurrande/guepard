{
 "cells": [
  {
   "cell_type": "markdown",
   "id": "4ccc11e5",
   "metadata": {},
   "source": [
    "# Experiment 1: Synthetic data\n",
    "This notebook compares the accuracy and the wall clock time for various GP ensemble methods"
   ]
  },
  {
   "cell_type": "code",
   "execution_count": 1,
   "id": "3d707111",
   "metadata": {},
   "outputs": [
    {
     "name": "stderr",
     "output_type": "stream",
     "text": [
      "/Users/nicolasdurrande/projects/guepard/.venv/lib/python3.9/site-packages/gpflow/experimental/utils.py:42: UserWarning: You're calling gpflow.experimental.check_shapes.decorator.check_shapes which is considered *experimental*. Expect: breaking changes, poor documentation, and bugs.\n",
      "  warn(\n",
      "/Users/nicolasdurrande/projects/guepard/.venv/lib/python3.9/site-packages/gpflow/experimental/utils.py:42: UserWarning: You're calling gpflow.experimental.check_shapes.inheritance.inherit_check_shapes which is considered *experimental*. Expect: breaking changes, poor documentation, and bugs.\n",
      "  warn(\n"
     ]
    },
    {
     "name": "stdout",
     "output_type": "stream",
     "text": [
      "n = 3200, d = 3\n"
     ]
    },
    {
     "name": "stderr",
     "output_type": "stream",
     "text": [
      "/Users/nicolasdurrande/projects/guepard/.venv/lib/python3.9/site-packages/gpflow/experimental/utils.py:42: UserWarning: You're calling gpflow.experimental.check_shapes.checker.ShapeChecker.__init__ which is considered *experimental*. Expect: breaking changes, poor documentation, and bugs.\n",
      "  warn(\n"
     ]
    },
    {
     "data": {
      "text/html": [
       "<style>div.output_scroll { height: 150em; }</style>"
      ],
      "text/plain": [
       "<IPython.core.display.HTML object>"
      ]
     },
     "metadata": {},
     "output_type": "display_data"
    }
   ],
   "source": [
    "import numpy as np\n",
    "import tensorflow as tf\n",
    "import gpflow\n",
    "import guepard\n",
    "import matplotlib.pyplot as plt\n",
    "import scipy\n",
    "import time\n",
    "\n",
    "from guepard.utilities import get_gpr_submodels\n",
    "\n",
    "rng = np.random.RandomState(123)\n",
    "tf.random.set_seed(42)\n",
    "\n",
    "d = 3                   # input space dimension\n",
    "n = 50 * 4**d           # number of observation points\n",
    "p = 4**d                # number of submodels\n",
    "\n",
    "print(f\"n = {n}, d = {d}\")\n",
    "\n",
    "kernel = gpflow.kernels.Matern52(lengthscales=[0.25]*d)\n",
    "noise_var = 1e-2\n",
    "\n",
    "lik = gpflow.likelihoods.Gaussian()\n",
    "lik.variance.assign(noise_var)\n",
    "\n",
    "mean_function = gpflow.mean_functions.Zero()\n",
    "\n",
    "# The lines below are specific to the notebook format\n",
    "%matplotlib inline\n",
    "plt.rcParams[\"figure.figsize\"] = (12, 6)\n",
    "from IPython.core.display import display, HTML\n",
    "display(HTML(\"<style>div.output_scroll { height: 150em; }</style>\"));\n"
   ]
  },
  {
   "cell_type": "markdown",
   "id": "df6b176f",
   "metadata": {},
   "source": [
    "We generate samples from the prior distribution as test function.\n"
   ]
  },
  {
   "cell_type": "code",
   "execution_count": 2,
   "id": "76ef0602",
   "metadata": {},
   "outputs": [
    {
     "data": {
      "image/png": "[encoded data removed]",
      "text/plain": [
       "<Figure size 1500x500 with 1 Axes>"
      ]
     },
     "metadata": {},
     "output_type": "display_data"
    }
   ],
   "source": [
    "def make_data(n_train, n_test, d):\n",
    "\n",
    "    n = n_train + n_test\n",
    "    X = np.random.uniform(size=(n, d))\n",
    "    Y = np.empty((n, 1))\n",
    "\n",
    "    dummy_data = np.array([[100.]]*d).T, np.array([[0.]])\n",
    "    F = gpflow.models.GPR(dummy_data, kernel).predict_f_samples(X, 1).numpy()[0]\n",
    "    Y = F + np.random.normal(0, np.sqrt(noise_var), size=F.shape)\n",
    "    return X[:n_train, :], Y[:n_train, :], X[n_train:, :], Y[n_train:, :]\n",
    "\n",
    "def get_subgroup(X):\n",
    "    d = X.shape[1]\n",
    "    z = np.linspace(1/8, 7/8, 4)\n",
    "    Z = np.meshgrid(*([z]*d))\n",
    "    Z = np.array([z.flatten() for z in Z]).T\n",
    "\n",
    "    D2 = np.sum((X[:, None, :] - Z[None, :, :])**2, axis=-1)\n",
    "\n",
    "    ind = np.argmin(D2, axis=1)\n",
    "    return(ind)\n",
    "\n",
    "X, Y, Xtest, Ytest = make_data(n, 100, d)\n",
    "ind = get_subgroup(X)\n",
    "\n",
    "plt.figure(figsize=(15, 5))\n",
    "plt.hist(ind, bins=p);\n",
    "\n"
   ]
  },
  {
   "cell_type": "code",
   "execution_count": 3,
   "id": "2e8425c6",
   "metadata": {},
   "outputs": [
    {
     "data": {
      "text/plain": [
       "0.19150280952453613"
      ]
     },
     "execution_count": 3,
     "metadata": {},
     "output_type": "execute_result"
    }
   ],
   "source": [
    "datasets = [(X[ind==i, :], Y[ind==i, :]) for i in range(p)]\n",
    "\n",
    "start_time = time.time()\n",
    "submodels = get_gpr_submodels(datasets, kernel, mean_function=mean_function, noise_variance=noise_var) # list of GPR models\n",
    "wct = time.time() - start_time\n",
    "wct"
   ]
  },
  {
   "cell_type": "code",
   "execution_count": 9,
   "id": "229e9db8",
   "metadata": {},
   "outputs": [
    {
     "name": "stdout",
     "output_type": "stream",
     "text": [
      "NLPD: -0.7280616370738724, time: 1.1546740531921387\n"
     ]
    }
   ],
   "source": [
    "start_time = time.time()\n",
    "m_nested = guepard.baselines.NestedGP(submodels)\n",
    "mean, var = m_nested.predict_f(Xtest)\n",
    "wct = time.time() - start_time\n",
    "\n",
    "NLPD = -np.mean(m_nested.predict_log_density((Xtest, Ytest)))\n",
    "\n",
    "print(f\"NLPD: {NLPD}, time: {wct}\")"
   ]
  },
  {
   "cell_type": "code",
   "execution_count": 10,
   "id": "7b0f15e8",
   "metadata": {},
   "outputs": [
    {
     "name": "stdout",
     "output_type": "stream",
     "text": [
      "WeightingMethods.VAR\n",
      "WeightingMethods.VAR\n",
      "NLPD: 1.8151292674398305, time: 0.40253305435180664\n"
     ]
    }
   ],
   "source": [
    "start_time = time.time()\n",
    "m_poe = guepard.baselines.Ensemble(submodels, \"PoE\", weighting=\"NoWeights\")\n",
    "mean, var = m_poe.predict_f(Xtest)\n",
    "wct = time.time() - start_time\n",
    "wct\n",
    "\n",
    "NLPD = -np.mean(m_poe.predict_log_density((Xtest, Ytest)))\n",
    "\n",
    "print(f\"NLPD: {NLPD}, time: {wct}\")\n"
   ]
  },
  {
   "cell_type": "code",
   "execution_count": 11,
   "id": "4d14e5df",
   "metadata": {},
   "outputs": [
    {
     "name": "stdout",
     "output_type": "stream",
     "text": [
      "NLPD: -0.6865378867581071, time: 0.478790283203125\n"
     ]
    }
   ],
   "source": [
    "start_time = time.time()\n",
    "m_guepard = guepard.EquivalentObsEnsemble(submodels)\n",
    "mean, var = m_guepard.predict_f(Xtest)\n",
    "wct = time.time() - start_time\n",
    "NLPD = -np.mean(m_guepard.predict_log_density((Xtest, Ytest)))\n",
    "\n",
    "print(f\"NLPD: {NLPD}, time: {wct}\")"
   ]
  },
  {
   "cell_type": "markdown",
   "id": "f0fa0699",
   "metadata": {},
   "source": [
    "\n",
    "\n"
   ]
  }
 ],
 "metadata": {
  "jupytext": {
   "formats": "ipynb,md"
  },
  "kernelspec": {
   "display_name": "Python 3.9.13 ('.venv': poetry)",
   "language": "python",
   "name": "python3"
  },
  "language_info": {
   "codemirror_mode": {
    "name": "ipython",
    "version": 3
   },
   "file_extension": ".py",
   "mimetype": "text/x-python",
   "name": "python",
   "nbconvert_exporter": "python",
   "pygments_lexer": "ipython3",
   "version": "3.9.13"
  },
  "vscode": {
   "interpreter": {
    "hash": "a41565e6715b36c3e75045e67b09d906430734b554fe23fb80d9a0cfa9ccfc68"
   }
  }
 },
 "nbformat": 4,
 "nbformat_minor": 5
}
